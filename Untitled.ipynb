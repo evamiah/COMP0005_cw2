{
 "cells": [
  {
   "cell_type": "code",
   "execution_count": 69,
   "id": "removable-decrease",
   "metadata": {},
   "outputs": [
    {
     "name": "stdout",
     "output_type": "stream",
     "text": [
      "['Poplar', 'West India Quay', 'Canary Wharf', 'Heron Quays']\n"
     ]
    },
    {
     "data": {
      "text/plain": [
       "4"
      ]
     },
     "execution_count": 69,
     "metadata": {},
     "output_type": "execute_result"
    }
   ],
   "source": [
    "import csv \n",
    "\n",
    "class Station:\n",
    "    def __init__(self, name, latitude, longitude):\n",
    "        self.name = name\n",
    "        self.longitude = longitude\n",
    "        self.latitude = latitude\n",
    "        self.adjacent = []\n",
    "\n",
    "        \n",
    "    def addAdj(self, s):\n",
    "        if s.name not in self.adjacent:\n",
    "            self.adjacent.append(s.name)\n",
    "            s.adjacent.append(self.name)\n",
    "        \n",
    "        \n",
    "class RailwayNetwork:\n",
    "    def __init__(self):\n",
    "        self.stations = {}\n",
    "        self.adj = {}\n",
    "    \n",
    "    def addStation(self, s):\n",
    "        if s.name not in self.stations.keys():\n",
    "            self.stations[s.name] = s\n",
    "            self.adj[s.name] = s.adjacent\n",
    "        \n",
    "    def addLine(self, station1, station2):\n",
    "        station1.addAdj(station2)\n",
    "        station2.addAdj(station1)\n",
    "        self.adj[station1.name] = station1.adjacent\n",
    "        self.adj[station2.name] = station2.adjacent\n",
    "      \n",
    "\n",
    "network = RailwayNetwork()\n",
    "with open(\"londonstations.csv\") as stationFile:\n",
    "    reader = csv.reader(stationFile)\n",
    "    stationFile.readline() #ignored headers in firstline\n",
    "    for row in reader:\n",
    "        s = Station(row[0], row[1], row[2])\n",
    "        network.addStation(s)\n",
    "stationFile.close()\n",
    "\n",
    "with open(\"londonrailwaylines.csv\") as lines:\n",
    "    reader = csv.reader(lines)\n",
    "    lines.readline()\n",
    "    for row in reader:\n",
    "        s1 = network.stations.get(row[1])\n",
    "        s2 = network.stations.get(row[2])\n",
    "        network.addLine(s1, s2)\n",
    "\n",
    "#print(network.adj)\n",
    "    \n",
    "\n",
    "def BFS(network, start, end):\n",
    "    visited = [start]\n",
    "    previous = {}\n",
    "    previous[start] = []\n",
    "    queue = [start]\n",
    "\n",
    "    while len(queue) > 0:\n",
    "        current = queue.pop(0)\n",
    "        for station in network.adj.get(current):\n",
    "            path = previous.get(current).copy()\n",
    "            path.append(current)\n",
    "            previous[station] = path\n",
    "            if station == end:\n",
    "                print(previous.get(station))\n",
    "                return len(previous.get(station))\n",
    "            if station not in visited:\n",
    "                visited.append(station)\n",
    "                queue.append(station)\n",
    "    return -1\n",
    "\n",
    "BFS(network, \"Poplar\", \"South Quay\")"
   ]
  },
  {
   "cell_type": "code",
   "execution_count": null,
   "id": "atomic-pendant",
   "metadata": {},
   "outputs": [],
   "source": []
  },
  {
   "cell_type": "code",
   "execution_count": null,
   "id": "false-tourism",
   "metadata": {},
   "outputs": [],
   "source": []
  }
 ],
 "metadata": {
  "kernelspec": {
   "display_name": "Python 3",
   "language": "python",
   "name": "python3"
  },
  "language_info": {
   "codemirror_mode": {
    "name": "ipython",
    "version": 3
   },
   "file_extension": ".py",
   "mimetype": "text/x-python",
   "name": "python",
   "nbconvert_exporter": "python",
   "pygments_lexer": "ipython3",
   "version": "3.8.5"
  }
 },
 "nbformat": 4,
 "nbformat_minor": 5
}
